{
  "nbformat": 4,
  "nbformat_minor": 0,
  "metadata": {
    "colab": {
      "name": "Untitled1.ipynb",
      "version": "0.3.2",
      "provenance": [],
      "include_colab_link": true
    },
    "kernelspec": {
      "name": "python3",
      "display_name": "Python 3"
    },
    "accelerator": "GPU"
  },
  "cells": [
    {
      "cell_type": "markdown",
      "metadata": {
        "id": "view-in-github",
        "colab_type": "text"
      },
      "source": [
        "<a href=\"https://colab.research.google.com/github/mohanrajmit/Transfer-Learning/blob/master/Transfer_Learning.ipynb\" target=\"_parent\"><img src=\"https://colab.research.google.com/assets/colab-badge.svg\" alt=\"Open In Colab\"/></a>"
      ]
    },
    {
      "metadata": {
        "id": "pdxVC0hnBMo3",
        "colab_type": "code",
        "colab": {
          "base_uri": "https://localhost:8080/",
          "height": 35
        },
        "outputId": "db666c7c-5ec1-4eec-d249-4becdc054ccb"
      },
      "cell_type": "code",
      "source": [
        "from pathlib import Path\n",
        "import numpy as np\n",
        "import joblib\n",
        "from keras.preprocessing import image\n",
        "from keras.applications import xception\n",
        "\n",
        "# Empty lists to hold the images and labels for each each image\n",
        "x_train = []\n",
        "y_train = []"
      ],
      "execution_count": 1,
      "outputs": [
        {
          "output_type": "stream",
          "text": [
            "Using TensorFlow backend.\n"
          ],
          "name": "stderr"
        }
      ]
    },
    {
      "metadata": {
        "id": "YmEmDeXKHtyU",
        "colab_type": "code",
        "colab": {
          "base_uri": "https://localhost:8080/",
          "height": 145
        },
        "outputId": "bd688a62-5c89-40b0-d659-8655da9c1509"
      },
      "cell_type": "code",
      "source": [
        "!git clone https://github.com/mohanrajmit/Transfer-Learning.git"
      ],
      "execution_count": 2,
      "outputs": [
        {
          "output_type": "stream",
          "text": [
            "Cloning into 'Transfer-Learning'...\n",
            "remote: Enumerating objects: 2214, done.\u001b[K\n",
            "remote: Counting objects:   0% (1/2214)   \u001b[K\rremote: Counting objects:   1% (23/2214)   \u001b[K\rremote: Counting objects:   2% (45/2214)   \u001b[K\rremote: Counting objects:   3% (67/2214)   \u001b[K\rremote: Counting objects:   4% (89/2214)   \u001b[K\rremote: Counting objects:   5% (111/2214)   \u001b[K\rremote: Counting objects:   6% (133/2214)   \u001b[K\rremote: Counting objects:   7% (155/2214)   \u001b[K\rremote: Counting objects:   8% (178/2214)   \u001b[K\rremote: Counting objects:   9% (200/2214)   \u001b[K\rremote: Counting objects:  10% (222/2214)   \u001b[K\rremote: Counting objects:  11% (244/2214)   \u001b[K\rremote: Counting objects:  12% (266/2214)   \u001b[K\rremote: Counting objects:  13% (288/2214)   \u001b[K\rremote: Counting objects:  14% (310/2214)   \u001b[K\rremote: Counting objects:  15% (333/2214)   \u001b[K\rremote: Counting objects:  16% (355/2214)   \u001b[K\rremote: Counting objects:  17% (377/2214)   \u001b[K\rremote: Counting objects:  18% (399/2214)   \u001b[K\rremote: Counting objects:  19% (421/2214)   \u001b[K\rremote: Counting objects:  20% (443/2214)   \u001b[K\rremote: Counting objects:  21% (465/2214)   \u001b[K\rremote: Counting objects:  22% (488/2214)   \u001b[K\rremote: Counting objects:  23% (510/2214)   \u001b[K\rremote: Counting objects:  24% (532/2214)   \u001b[K\rremote: Counting objects:  25% (554/2214)   \u001b[K\rremote: Counting objects:  26% (576/2214)   \u001b[K\rremote: Counting objects:  27% (598/2214)   \u001b[K\rremote: Counting objects:  28% (620/2214)   \u001b[K\rremote: Counting objects:  29% (643/2214)   \u001b[K\rremote: Counting objects:  30% (665/2214)   \u001b[K\rremote: Counting objects:  31% (687/2214)   \u001b[K\rremote: Counting objects:  32% (709/2214)   \u001b[K\rremote: Counting objects:  33% (731/2214)   \u001b[K\rremote: Counting objects:  34% (753/2214)   \u001b[K\rremote: Counting objects:  35% (775/2214)   \u001b[K\rremote: Counting objects:  36% (798/2214)   \u001b[K\rremote: Counting objects:  37% (820/2214)   \u001b[K\rremote: Counting objects:  38% (842/2214)   \u001b[K\rremote: Counting objects:  39% (864/2214)   \u001b[K\rremote: Counting objects:  40% (886/2214)   \u001b[K\rremote: Counting objects:  41% (908/2214)   \u001b[K\rremote: Counting objects:  42% (930/2214)   \u001b[K\rremote: Counting objects:  43% (953/2214)   \u001b[K\rremote: Counting objects:  44% (975/2214)   \u001b[K\rremote: Counting objects:  45% (997/2214)   \u001b[K\rremote: Counting objects:  46% (1019/2214)   \u001b[K\rremote: Counting objects:  47% (1041/2214)   \u001b[K\rremote: Counting objects:  48% (1063/2214)   \u001b[K\rremote: Counting objects:  49% (1085/2214)   \u001b[K\rremote: Counting objects:  50% (1107/2214)   \u001b[K\rremote: Counting objects:  51% (1130/2214)   \u001b[K\rremote: Counting objects:  52% (1152/2214)   \u001b[K\rremote: Counting objects:  53% (1174/2214)   \u001b[K\rremote: Counting objects:  54% (1196/2214)   \u001b[K\rremote: Counting objects:  55% (1218/2214)   \u001b[K\rremote: Counting objects:  56% (1240/2214)   \u001b[K\rremote: Counting objects:  57% (1262/2214)   \u001b[K\rremote: Counting objects:  58% (1285/2214)   \u001b[K\rremote: Counting objects:  59% (1307/2214)   \u001b[K\rremote: Counting objects:  60% (1329/2214)   \u001b[K\rremote: Counting objects:  61% (1351/2214)   \u001b[K\rremote: Counting objects:  62% (1373/2214)   \u001b[K\rremote: Counting objects:  63% (1395/2214)   \u001b[K\rremote: Counting objects:  64% (1417/2214)   \u001b[K\rremote: Counting objects:  65% (1440/2214)   \u001b[K\rremote: Counting objects:  66% (1462/2214)   \u001b[K\rremote: Counting objects:  67% (1484/2214)   \u001b[K\rremote: Counting objects:  68% (1506/2214)   \u001b[K\rremote: Counting objects:  69% (1528/2214)   \u001b[K\rremote: Counting objects:  70% (1550/2214)   \u001b[K\rremote: Counting objects:  71% (1572/2214)   \u001b[K\rremote: Counting objects:  72% (1595/2214)   \u001b[K\rremote: Counting objects:  73% (1617/2214)   \u001b[K\rremote: Counting objects:  74% (1639/2214)   \u001b[K\rremote: Counting objects:  75% (1661/2214)   \u001b[K\rremote: Counting objects:  76% (1683/2214)   \u001b[K\rremote: Counting objects:  77% (1705/2214)   \u001b[K\rremote: Counting objects:  78% (1727/2214)   \u001b[K\rremote: Counting objects:  79% (1750/2214)   \u001b[K\rremote: Counting objects:  80% (1772/2214)   \u001b[K\rremote: Counting objects:  81% (1794/2214)   \u001b[K\rremote: Counting objects:  82% (1816/2214)   \u001b[K\rremote: Counting objects:  83% (1838/2214)   \u001b[K\rremote: Counting objects:  84% (1860/2214)   \u001b[K\rremote: Counting objects:  85% (1882/2214)   \u001b[K\rremote: Counting objects:  86% (1905/2214)   \u001b[K\rremote: Counting objects:  87% (1927/2214)   \u001b[K\rremote: Counting objects:  88% (1949/2214)   \u001b[K\rremote: Counting objects:  89% (1971/2214)   \u001b[K\rremote: Counting objects:  90% (1993/2214)   \u001b[K\rremote: Counting objects:  91% (2015/2214)   \u001b[K\rremote: Counting objects:  92% (2037/2214)   \u001b[K\rremote: Counting objects:  93% (2060/2214)   \u001b[K\rremote: Counting objects:  94% (2082/2214)   \u001b[K\rremote: Counting objects:  95% (2104/2214)   \u001b[K\rremote: Counting objects:  96% (2126/2214)   \u001b[K\rremote: Counting objects:  97% (2148/2214)   \u001b[K\rremote: Counting objects:  98% (2170/2214)   \u001b[K\rremote: Counting objects:  99% (2192/2214)   \u001b[K\rremote: Counting objects: 100% (2214/2214)   \u001b[K\rremote: Counting objects: 100% (2214/2214), done.\u001b[K\n",
            "remote: Compressing objects: 100% (2212/2212), done.\u001b[K\n",
            "remote: Total 2214 (delta 1), reused 2207 (delta 0), pack-reused 0\u001b[K\n",
            "Receiving objects: 100% (2214/2214), 13.85 MiB | 34.60 MiB/s, done.\n",
            "Resolving deltas: 100% (1/1), done.\n"
          ],
          "name": "stdout"
        }
      ]
    },
    {
      "metadata": {
        "id": "_9Es9qfMKV5l",
        "colab_type": "code",
        "colab": {
          "base_uri": "https://localhost:8080/",
          "height": 35
        },
        "outputId": "663e23e2-a3cd-4c9c-87c9-37fa7529d7a3"
      },
      "cell_type": "code",
      "source": [
        "!ls"
      ],
      "execution_count": 3,
      "outputs": [
        {
          "output_type": "stream",
          "text": [
            "sample_data  Transfer-Learning\n"
          ],
          "name": "stdout"
        }
      ]
    },
    {
      "metadata": {
        "id": "pFzZzArPBQW6",
        "colab_type": "code",
        "colab": {}
      },
      "cell_type": "code",
      "source": [
        "# Load the training data set by looping over every image file\n",
        "for image_file in Path(\"Transfer-Learning/training_dataset\").glob(\"**/*.png\"):\n",
        "\n",
        "    # Load the current image file\n",
        "    image_data = image.load_img(image_file, target_size=(73, 73))\n",
        "\n",
        "    # Convert the loaded image file to a numpy array\n",
        "    image_array = image.img_to_array(image_data)\n",
        "\n",
        "    # Add the current image to our list of training images\n",
        "    x_train.append(image_array)\n",
        "\n",
        "    # Add a label for this image. If it was a not_bird image, label it 0. If it was a bird, label it 1.\n",
        "    if \"not_bird\" in image_file.stem:\n",
        "        y_train.append(0)\n",
        "    else:\n",
        "        y_train.append(1)"
      ],
      "execution_count": 0,
      "outputs": []
    },
    {
      "metadata": {
        "id": "sBfVYK56BbwT",
        "colab_type": "code",
        "colab": {
          "base_uri": "https://localhost:8080/",
          "height": 92
        },
        "outputId": "66da27e7-bdc8-406e-b37c-f9adc59d8ab9"
      },
      "cell_type": "code",
      "source": [
        "# Convert the list of separate images into a single 4D numpy array. This is what Keras expects.\n",
        "x_train = np.array(x_train)\n",
        "\n",
        "# Normalize image data to 0-to-1 range\n",
        "x_train = xception.preprocess_input(x_train)\n",
        "\n",
        "# Load the pre-trained neural network to use as a feature extractor\n",
        "feature_extractor = xception.Xception(weights='imagenet', include_top=False, input_shape=(73, 73, 3))\n",
        "\n",
        "# Extract features for each image (all in one pass)\n",
        "features_x = feature_extractor.predict(x_train)\n",
        "\n",
        "# Save the array of extracted features to a file\n",
        "joblib.dump(features_x, \"x_train.dat\")\n",
        "\n",
        "# Save the matching array of expected values to a file\n",
        "joblib.dump(y_train, \"y_train.dat\")\n"
      ],
      "execution_count": 5,
      "outputs": [
        {
          "output_type": "stream",
          "text": [
            "Downloading data from https://github.com/fchollet/deep-learning-models/releases/download/v0.4/xception_weights_tf_dim_ordering_tf_kernels_notop.h5\n",
            "83689472/83683744 [==============================] - 3s 0us/step\n"
          ],
          "name": "stdout"
        },
        {
          "output_type": "execute_result",
          "data": {
            "text/plain": [
              "['y_train.dat']"
            ]
          },
          "metadata": {
            "tags": []
          },
          "execution_count": 5
        }
      ]
    },
    {
      "metadata": {
        "id": "9sXXX9VOBmpv",
        "colab_type": "code",
        "colab": {}
      },
      "cell_type": "code",
      "source": [
        "# Load data set of extracted features\n",
        "x_train = joblib.load(\"x_train.dat\")\n",
        "y_train = joblib.load(\"y_train.dat\")\n"
      ],
      "execution_count": 0,
      "outputs": []
    },
    {
      "metadata": {
        "id": "CvvFDEMpKwQt",
        "colab_type": "code",
        "colab": {}
      },
      "cell_type": "code",
      "source": [
        "from keras.models import Sequential\n",
        "from keras.layers import Dense, Dropout, Flatten"
      ],
      "execution_count": 0,
      "outputs": []
    },
    {
      "metadata": {
        "id": "Nn81_QfVBvuj",
        "colab_type": "code",
        "colab": {}
      },
      "cell_type": "code",
      "source": [
        "# Create a model and add layers\n",
        "model = Sequential()\n",
        "\n",
        "# Add layers to our model\n",
        "model.add(Flatten(input_shape=x_train.shape[1:]))\n",
        "model.add(Dense(128, activation='relu'))\n",
        "model.add(Dropout(0.5))\n",
        "model.add(Dense(1, activation='sigmoid'))\n",
        "\n",
        "# Compile the model\n",
        "model.compile(\n",
        "    loss='binary_crossentropy',\n",
        "    optimizer='adam',\n",
        "    metrics=['accuracy']\n",
        ")\n"
      ],
      "execution_count": 0,
      "outputs": []
    },
    {
      "metadata": {
        "id": "-Rxngy6-Bynu",
        "colab_type": "code",
        "colab": {
          "base_uri": "https://localhost:8080/",
          "height": 399
        },
        "outputId": "5f74502d-8704-4b36-b882-5a998c7ad395"
      },
      "cell_type": "code",
      "source": [
        "# Train the model\n",
        "model.fit(\n",
        "    x_train,\n",
        "    y_train,\n",
        "    validation_split=0.05,\n",
        "    epochs=10,\n",
        "    shuffle=True,\n",
        "    verbose=2\n",
        ")\n",
        "\n",
        "# Save the trained model to a file so we can use it to make predictions later\n",
        "model.save(\"bird_feature_classifier_model.h5\")"
      ],
      "execution_count": 10,
      "outputs": [
        {
          "output_type": "stream",
          "text": [
            "Train on 1900 samples, validate on 100 samples\n",
            "Epoch 1/10\n",
            " - 2s - loss: 0.6775 - acc: 0.7495 - val_loss: 0.2600 - val_acc: 0.9000\n",
            "Epoch 2/10\n",
            " - 0s - loss: 0.3672 - acc: 0.8321 - val_loss: 0.4455 - val_acc: 0.8100\n",
            "Epoch 3/10\n",
            " - 0s - loss: 0.3312 - acc: 0.8574 - val_loss: 0.4256 - val_acc: 0.8200\n",
            "Epoch 4/10\n",
            " - 0s - loss: 0.3004 - acc: 0.8611 - val_loss: 0.2432 - val_acc: 0.9300\n",
            "Epoch 5/10\n",
            " - 0s - loss: 0.2968 - acc: 0.8658 - val_loss: 0.4203 - val_acc: 0.8300\n",
            "Epoch 6/10\n",
            " - 0s - loss: 0.2333 - acc: 0.8895 - val_loss: 0.3555 - val_acc: 0.8900\n",
            "Epoch 7/10\n",
            " - 0s - loss: 0.2101 - acc: 0.9053 - val_loss: 0.3109 - val_acc: 0.9000\n",
            "Epoch 8/10\n",
            " - 1s - loss: 0.1969 - acc: 0.9132 - val_loss: 0.3250 - val_acc: 0.9200\n",
            "Epoch 9/10\n",
            " - 0s - loss: 0.1729 - acc: 0.9184 - val_loss: 0.3711 - val_acc: 0.8900\n",
            "Epoch 10/10\n",
            " - 1s - loss: 0.1752 - acc: 0.9284 - val_loss: 0.6389 - val_acc: 0.8000\n"
          ],
          "name": "stdout"
        }
      ]
    },
    {
      "metadata": {
        "id": "UZLgCYOnB1k-",
        "colab_type": "code",
        "colab": {}
      },
      "cell_type": "code",
      "source": [
        "from keras.models import load_model\n",
        "from sklearn.metrics import confusion_matrix, classification_report"
      ],
      "execution_count": 0,
      "outputs": []
    },
    {
      "metadata": {
        "id": "yUqfBf9ECFBU",
        "colab_type": "code",
        "colab": {}
      },
      "cell_type": "code",
      "source": [
        "# Empty lists to hold the images and labels for each each image\n",
        "x_test = []\n",
        "y_test = []\n",
        "\n",
        "# Load the test data set by looping over every image file\n",
        "for image_file in Path(\"Transfer-Learning/test_dataset\").glob(\"**/*.png\"):\n",
        "\n",
        "    # Load the current image file\n",
        "    image_data = image.load_img(image_file, target_size=(73, 73))\n",
        "\n",
        "    # Convert the loaded image file to a numpy array\n",
        "    image_array = image.img_to_array(image_data)\n",
        "\n",
        "    # Add the current image to our list of test images\n",
        "    x_test.append(image_array)\n",
        "\n",
        "    # Add an expected label for this image. If it was a not_bird image, label it 0. If it was a bird, label it 1.\n",
        "    if \"not_bird\" in image_file.stem:\n",
        "        y_test.append(0)\n",
        "    else:\n",
        "        y_test.append(1)\n",
        "\n",
        "# Convert the list of test images to a numpy array\n",
        "x_test = np.array(x_test)\n",
        "\n",
        "# Normalize test data set to 0-to-1 range\n",
        "x_test = xception.preprocess_input(x_test)"
      ],
      "execution_count": 0,
      "outputs": []
    },
    {
      "metadata": {
        "id": "mPYbXZBMCSGn",
        "colab_type": "code",
        "colab": {
          "base_uri": "https://localhost:8080/",
          "height": 254
        },
        "outputId": "8e9bde39-3d70-43c2-b3e6-4113aa1cf57e"
      },
      "cell_type": "code",
      "source": [
        "# Load our trained classifier model\n",
        "model = load_model(\"bird_feature_classifier_model.h5\")\n",
        "\n",
        "# Extract features for each image (all in one pass)\n",
        "features_x = feature_extractor.predict(x_test)\n",
        "\n",
        "# Given the extracted features, make a final prediction using our own model\n",
        "predictions = model.predict(features_x)\n",
        "\n",
        "# If the model is more than 50% sure the object is a bird, call it a bird.\n",
        "# Otherwise, call it \"not a bird\".\n",
        "predictions = predictions > 0.5\n",
        "\n",
        "# Calculate how many mis-classifications the model makes\n",
        "tn, fp, fn, tp = confusion_matrix(y_test, predictions).ravel()\n",
        "print(f\"True Positives: {tp}\")\n",
        "print(f\"True Negatives: {tn}\")\n",
        "print(f\"False Positives: {fp}\")\n",
        "print(f\"False Negatives: {fn}\")\n",
        "\n",
        "# Calculate Precision and Recall for each class\n",
        "report = classification_report(y_test, predictions)\n",
        "print(report)"
      ],
      "execution_count": 13,
      "outputs": [
        {
          "output_type": "stream",
          "text": [
            "True Positives: 88\n",
            "True Negatives: 75\n",
            "False Positives: 25\n",
            "False Negatives: 12\n",
            "              precision    recall  f1-score   support\n",
            "\n",
            "           0       0.86      0.75      0.80       100\n",
            "           1       0.78      0.88      0.83       100\n",
            "\n",
            "   micro avg       0.81      0.81      0.81       200\n",
            "   macro avg       0.82      0.81      0.81       200\n",
            "weighted avg       0.82      0.81      0.81       200\n",
            "\n"
          ],
          "name": "stdout"
        }
      ]
    }
  ]
}